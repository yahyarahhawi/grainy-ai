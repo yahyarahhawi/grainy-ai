{
 "cells": [
  {
   "cell_type": "code",
   "execution_count": 16,
   "metadata": {},
   "outputs": [],
   "source": [
    "inference_size = 1024 + 512"
   ]
  },
  {
   "cell_type": "code",
   "execution_count": 37,
   "metadata": {},
   "outputs": [
    {
     "name": "stdout",
     "output_type": "stream",
     "text": [
      "3.0000000155654774\n",
      "18.0\n"
     ]
    }
   ],
   "source": [
    "def func(a,e,alpha, max_steps = 100):\n",
    "    x = a\n",
    "    x_ = 2*a\n",
    "    j = 0\n",
    "    while abs(x_ - x) > e:\n",
    "        if j > max_steps:\n",
    "            break\n",
    "        x = x_\n",
    "        x_ = x - alpha*(x - (a/x))\n",
    "        j += 1\n",
    "    return x\n",
    "\n",
    "b = func(a = 9, e = 1e-8, alpha = 0.2)\n",
    "print(b)\n",
    "c = func(a = 9, e = 1e-8, alpha = 1)\n",
    "print(c)"
   ]
  },
  {
   "cell_type": "code",
   "execution_count": null,
   "metadata": {},
   "outputs": [
    {
     "name": "stdout",
     "output_type": "stream",
     "text": [
      "15.000002057997918\n"
     ]
    }
   ],
   "source": [
    "d = func(a = 225, e = 1e-8, alpha = 0.1)\n",
    "print(d)"
   ]
  },
  {
   "cell_type": "code",
   "execution_count": 51,
   "metadata": {},
   "outputs": [
    {
     "name": "stdout",
     "output_type": "stream",
     "text": [
      "----------------- Options ---------------\n",
      "             aspect_ratio: 1.0                           \n",
      "               batch_size: 1                             \n",
      "          checkpoints_dir: ./checkpoints                 \n",
      "                crop_size: 256                           \n",
      "                 dataroot: dummy                         \t[default: None]\n",
      "             dataset_mode: single                        \t[default: unaligned]\n",
      "                direction: AtoB                          \n",
      "          display_winsize: 256                           \n",
      "                    epoch: latest                        \n",
      "                     eval: False                         \n",
      "                  gpu_ids: -1                            \t[default: 0]\n",
      "                init_gain: 0.02                          \n",
      "                init_type: normal                        \n",
      "                 input_nc: 3                             \n",
      "                  isTrain: False                         \t[default: None]\n",
      "                load_iter: 0                             \t[default: 0]\n",
      "                load_size: 256                           \n",
      "         max_dataset_size: inf                           \n",
      "                    model: cycle_gan                     \t[default: test]\n",
      "               n_layers_D: 3                             \n",
      "                     name: experiment_name               \n",
      "                      ndf: 64                            \n",
      "                     netD: basic                         \n",
      "                     netG: resnet_9blocks                \n",
      "                      ngf: 64                            \n",
      "               no_dropout: True                          \n",
      "                  no_flip: False                         \n",
      "                     norm: instance                      \n",
      "                 num_test: 50                            \n",
      "              num_threads: 4                             \n",
      "                output_nc: 3                             \n",
      "                    phase: test                          \n",
      "               preprocess: resize_and_crop               \n",
      "              results_dir: ./results/                    \n",
      "           serial_batches: False                         \n",
      "                   suffix:                               \n",
      "                use_wandb: False                         \n",
      "                  verbose: False                         \n",
      "       wandb_project_name: CycleGAN-and-pix2pix          \n",
      "----------------- End -------------------\n",
      "Using device: mps\n",
      "initialize network with normal\n",
      "initialize network with normal\n",
      "model [CycleGANModel] was created\n"
     ]
    },
    {
     "name": "stderr",
     "output_type": "stream",
     "text": [
      "/var/folders/p3/zqj4hsr94qs443gkb32p5h_00000gn/T/ipykernel_79971/1096586389.py:41: FutureWarning: You are using `torch.load` with `weights_only=False` (the current default value), which uses the default pickle module implicitly. It is possible to construct malicious pickle data which will execute arbitrary code during unpickling (See https://github.com/pytorch/pytorch/blob/main/SECURITY.md#untrusted-models for more details). In a future release, the default value for `weights_only` will be flipped to `True`. This limits the functions that could be executed during unpickling. Arbitrary objects will no longer be allowed to be loaded via this mode unless they are explicitly allowlisted by the user via `torch.serialization.add_safe_globals`. We recommend you start setting `weights_only=True` for any use case where you don't have full control of the loaded file. Please open an issue on GitHub for any issues related to this experimental feature.\n",
      "  state_dict = torch.load(weights_path, map_location=device)\n"
     ]
    },
    {
     "name": "stdout",
     "output_type": "stream",
     "text": [
      "CycleGAN model created successfully!\n",
      "Generator loaded: ResnetGenerator(\n",
      "  (model): Sequential(\n",
      "    (0): ReflectionPad2d((3, 3, 3, 3))\n",
      "    (1): Conv2d(3, 64, kernel_size=(7, 7), stride=(1, 1))\n",
      "    (2): InstanceNorm2d(64, eps=1e-05, momentum=0.1, affine=False, track_running_stats=False)\n",
      "    (3): ReLU(inplace=True)\n",
      "    (4): Conv2d(64, 128, kernel_size=(3, 3), stride=(2, 2), padding=(1, 1))\n",
      "    (5): InstanceNorm2d(128, eps=1e-05, momentum=0.1, affine=False, track_running_stats=False)\n",
      "    (6): ReLU(inplace=True)\n",
      "    (7): Conv2d(128, 256, kernel_size=(3, 3), stride=(2, 2), padding=(1, 1))\n",
      "    (8): InstanceNorm2d(256, eps=1e-05, momentum=0.1, affine=False, track_running_stats=False)\n",
      "    (9): ReLU(inplace=True)\n",
      "    (10): ResnetBlock(\n",
      "      (conv_block): Sequential(\n",
      "        (0): ReflectionPad2d((1, 1, 1, 1))\n",
      "        (1): Conv2d(256, 256, kernel_size=(3, 3), stride=(1, 1))\n",
      "        (2): InstanceNorm2d(256, eps=1e-05, momentum=0.1, affine=False, track_running_stats=False)\n",
      "        (3): ReLU(inplace=True)\n",
      "        (4): ReflectionPad2d((1, 1, 1, 1))\n",
      "        (5): Conv2d(256, 256, kernel_size=(3, 3), stride=(1, 1))\n",
      "        (6): InstanceNorm2d(256, eps=1e-05, momentum=0.1, affine=False, track_running_stats=False)\n",
      "      )\n",
      "    )\n",
      "    (11): ResnetBlock(\n",
      "      (conv_block): Sequential(\n",
      "        (0): ReflectionPad2d((1, 1, 1, 1))\n",
      "        (1): Conv2d(256, 256, kernel_size=(3, 3), stride=(1, 1))\n",
      "        (2): InstanceNorm2d(256, eps=1e-05, momentum=0.1, affine=False, track_running_stats=False)\n",
      "        (3): ReLU(inplace=True)\n",
      "        (4): ReflectionPad2d((1, 1, 1, 1))\n",
      "        (5): Conv2d(256, 256, kernel_size=(3, 3), stride=(1, 1))\n",
      "        (6): InstanceNorm2d(256, eps=1e-05, momentum=0.1, affine=False, track_running_stats=False)\n",
      "      )\n",
      "    )\n",
      "    (12): ResnetBlock(\n",
      "      (conv_block): Sequential(\n",
      "        (0): ReflectionPad2d((1, 1, 1, 1))\n",
      "        (1): Conv2d(256, 256, kernel_size=(3, 3), stride=(1, 1))\n",
      "        (2): InstanceNorm2d(256, eps=1e-05, momentum=0.1, affine=False, track_running_stats=False)\n",
      "        (3): ReLU(inplace=True)\n",
      "        (4): ReflectionPad2d((1, 1, 1, 1))\n",
      "        (5): Conv2d(256, 256, kernel_size=(3, 3), stride=(1, 1))\n",
      "        (6): InstanceNorm2d(256, eps=1e-05, momentum=0.1, affine=False, track_running_stats=False)\n",
      "      )\n",
      "    )\n",
      "    (13): ResnetBlock(\n",
      "      (conv_block): Sequential(\n",
      "        (0): ReflectionPad2d((1, 1, 1, 1))\n",
      "        (1): Conv2d(256, 256, kernel_size=(3, 3), stride=(1, 1))\n",
      "        (2): InstanceNorm2d(256, eps=1e-05, momentum=0.1, affine=False, track_running_stats=False)\n",
      "        (3): ReLU(inplace=True)\n",
      "        (4): ReflectionPad2d((1, 1, 1, 1))\n",
      "        (5): Conv2d(256, 256, kernel_size=(3, 3), stride=(1, 1))\n",
      "        (6): InstanceNorm2d(256, eps=1e-05, momentum=0.1, affine=False, track_running_stats=False)\n",
      "      )\n",
      "    )\n",
      "    (14): ResnetBlock(\n",
      "      (conv_block): Sequential(\n",
      "        (0): ReflectionPad2d((1, 1, 1, 1))\n",
      "        (1): Conv2d(256, 256, kernel_size=(3, 3), stride=(1, 1))\n",
      "        (2): InstanceNorm2d(256, eps=1e-05, momentum=0.1, affine=False, track_running_stats=False)\n",
      "        (3): ReLU(inplace=True)\n",
      "        (4): ReflectionPad2d((1, 1, 1, 1))\n",
      "        (5): Conv2d(256, 256, kernel_size=(3, 3), stride=(1, 1))\n",
      "        (6): InstanceNorm2d(256, eps=1e-05, momentum=0.1, affine=False, track_running_stats=False)\n",
      "      )\n",
      "    )\n",
      "    (15): ResnetBlock(\n",
      "      (conv_block): Sequential(\n",
      "        (0): ReflectionPad2d((1, 1, 1, 1))\n",
      "        (1): Conv2d(256, 256, kernel_size=(3, 3), stride=(1, 1))\n",
      "        (2): InstanceNorm2d(256, eps=1e-05, momentum=0.1, affine=False, track_running_stats=False)\n",
      "        (3): ReLU(inplace=True)\n",
      "        (4): ReflectionPad2d((1, 1, 1, 1))\n",
      "        (5): Conv2d(256, 256, kernel_size=(3, 3), stride=(1, 1))\n",
      "        (6): InstanceNorm2d(256, eps=1e-05, momentum=0.1, affine=False, track_running_stats=False)\n",
      "      )\n",
      "    )\n",
      "    (16): ResnetBlock(\n",
      "      (conv_block): Sequential(\n",
      "        (0): ReflectionPad2d((1, 1, 1, 1))\n",
      "        (1): Conv2d(256, 256, kernel_size=(3, 3), stride=(1, 1))\n",
      "        (2): InstanceNorm2d(256, eps=1e-05, momentum=0.1, affine=False, track_running_stats=False)\n",
      "        (3): ReLU(inplace=True)\n",
      "        (4): ReflectionPad2d((1, 1, 1, 1))\n",
      "        (5): Conv2d(256, 256, kernel_size=(3, 3), stride=(1, 1))\n",
      "        (6): InstanceNorm2d(256, eps=1e-05, momentum=0.1, affine=False, track_running_stats=False)\n",
      "      )\n",
      "    )\n",
      "    (17): ResnetBlock(\n",
      "      (conv_block): Sequential(\n",
      "        (0): ReflectionPad2d((1, 1, 1, 1))\n",
      "        (1): Conv2d(256, 256, kernel_size=(3, 3), stride=(1, 1))\n",
      "        (2): InstanceNorm2d(256, eps=1e-05, momentum=0.1, affine=False, track_running_stats=False)\n",
      "        (3): ReLU(inplace=True)\n",
      "        (4): ReflectionPad2d((1, 1, 1, 1))\n",
      "        (5): Conv2d(256, 256, kernel_size=(3, 3), stride=(1, 1))\n",
      "        (6): InstanceNorm2d(256, eps=1e-05, momentum=0.1, affine=False, track_running_stats=False)\n",
      "      )\n",
      "    )\n",
      "    (18): ResnetBlock(\n",
      "      (conv_block): Sequential(\n",
      "        (0): ReflectionPad2d((1, 1, 1, 1))\n",
      "        (1): Conv2d(256, 256, kernel_size=(3, 3), stride=(1, 1))\n",
      "        (2): InstanceNorm2d(256, eps=1e-05, momentum=0.1, affine=False, track_running_stats=False)\n",
      "        (3): ReLU(inplace=True)\n",
      "        (4): ReflectionPad2d((1, 1, 1, 1))\n",
      "        (5): Conv2d(256, 256, kernel_size=(3, 3), stride=(1, 1))\n",
      "        (6): InstanceNorm2d(256, eps=1e-05, momentum=0.1, affine=False, track_running_stats=False)\n",
      "      )\n",
      "    )\n",
      "    (19): ConvTranspose2d(256, 128, kernel_size=(3, 3), stride=(2, 2), padding=(1, 1), output_padding=(1, 1))\n",
      "    (20): InstanceNorm2d(128, eps=1e-05, momentum=0.1, affine=False, track_running_stats=False)\n",
      "    (21): ReLU(inplace=True)\n",
      "    (22): ConvTranspose2d(128, 64, kernel_size=(3, 3), stride=(2, 2), padding=(1, 1), output_padding=(1, 1))\n",
      "    (23): InstanceNorm2d(64, eps=1e-05, momentum=0.1, affine=False, track_running_stats=False)\n",
      "    (24): ReLU(inplace=True)\n",
      "    (25): ReflectionPad2d((3, 3, 3, 3))\n",
      "    (26): Conv2d(64, 3, kernel_size=(7, 7), stride=(1, 1))\n",
      "    (27): Tanh()\n",
      "  )\n",
      ")\n"
     ]
    }
   ],
   "source": [
    "import sys\n",
    "import torch\n",
    "from models import create_model\n",
    "from options.test_options import TestOptions\n",
    "\n",
    "# Path to your pre-trained weights\n",
    "weights_path = \"/Users/yahyarahhawi/Developer/Film/weights/New Gen/E100/180_net_G_A.pth\"\n",
    "# Override sys.argv to inject minimal CLI args for TestOptions\n",
    "original_argv = sys.argv\n",
    "sys.argv = [\n",
    "    original_argv[0],\n",
    "    '--dataroot', 'dummy',        # Needed to satisfy required '--dataroot' argument\n",
    "    '--model', 'cycle_gan',       # Specifies the CycleGAN model\n",
    "    '--dataset_mode', 'single',   # We are feeding images manually\n",
    "    '--gpu_ids', '-1',\n",
    "    \"--netG\", \"resnet_9blocks\" ,        # ResNet generator with 9 blocks\n",
    "]\n",
    "\n",
    "# Parse the options\n",
    "opt = TestOptions().parse()\n",
    "\n",
    "# Restore sys.argv to its original state\n",
    "sys.argv = original_argv\n",
    "\n",
    "# Set additional options manually\n",
    "opt.isTrain = False  # Indicates we're running in evaluation/test mode\n",
    "opt.no_dropout = True  # No dropout for inference\n",
    "opt.batch_size = 1  # Inference only works with batch size = 1\n",
    "opt.load_size = inference_size  # Resize to 256x256 during preprocessing (adjust as needed)\n",
    "opt.crop_size = inference_size  # Crop size must match load size for this example\n",
    "\n",
    "# Set the device to MPS if available, otherwise CPU\n",
    "device = torch.device(\"mps\")\n",
    "print(f\"Using device: {device}\")\n",
    "\n",
    "# Create the CycleGAN model\n",
    "cycleGAN = create_model(opt)\n",
    "cycleGAN.eval()  # Set the model to evaluation mode\n",
    "\n",
    "# Manually load netG_A weights\n",
    "state_dict = torch.load(weights_path, map_location=device)\n",
    "cycleGAN.netG_A.load_state_dict(state_dict)\n",
    "\n",
    "# Move the model to the device\n",
    "cycleGAN.netG_A = cycleGAN.netG_A.to(device)\n",
    "\n",
    "# Access the generator (netG_A)\n",
    "model_netG_A = cycleGAN.netG_A\n",
    "\n",
    "# Print a summary to verify everything is working\n",
    "print(\"CycleGAN model created successfully!\")\n",
    "print(f\"Generator loaded: {model_netG_A}\")"
   ]
  },
  {
   "cell_type": "code",
   "execution_count": 52,
   "metadata": {},
   "outputs": [
    {
     "name": "stdout",
     "output_type": "stream",
     "text": [
      "TorchScript model saved to ./cycleGAN_traced.pt\n"
     ]
    }
   ],
   "source": [
    "# Create a dummy input with the same shape as your input images\n",
    "dummy_input = torch.randn(1, 3, inference_size, inference_size).to(device)\n",
    "\n",
    "# Trace the model to produce a TorchScript version\n",
    "traced_model = torch.jit.trace(model_netG_A, dummy_input)\n",
    "\n",
    "# Save the TorchScript model (optional, for debugging)\n",
    "traced_model_path = \"./cycleGAN_traced.pt\"\n",
    "traced_model.save(traced_model_path)\n",
    "\n",
    "print(f\"TorchScript model saved to {traced_model_path}\")"
   ]
  },
  {
   "cell_type": "code",
   "execution_count": 53,
   "metadata": {},
   "outputs": [
    {
     "name": "stderr",
     "output_type": "stream",
     "text": [
      "Converting PyTorch Frontend ==> MIL Ops: 100%|█████████▉| 216/217 [00:00<00:00, 6250.52 ops/s]\n",
      "Running MIL frontend_pytorch pipeline: 100%|██████████| 5/5 [00:00<00:00, 640.29 passes/s]\n",
      "Running MIL default pipeline:   0%|          | 0/87 [00:00<?, ? passes/s]/Users/yahyarahhawi/miniforge3/envs/pytorch/lib/python3.12/site-packages/coremltools/converters/mil/mil/passes/defs/preprocess.py:273: UserWarning: Output, '309', of the source model, has been renamed to 'var_309' in the Core ML model.\n",
      "  warnings.warn(msg.format(var.name, new_name))\n",
      "Running MIL default pipeline: 100%|██████████| 87/87 [00:00<00:00, 497.25 passes/s]\n",
      "Running MIL backend_neuralnetwork pipeline: 100%|██████████| 9/9 [00:00<00:00, 763.16 passes/s]\n",
      "Translating MIL ==> NeuralNetwork Ops: 100%|██████████| 328/328 [00:01<00:00, 241.37 ops/s]\n"
     ]
    },
    {
     "name": "stdout",
     "output_type": "stream",
     "text": [
      "Core ML model saved to ./E100.mlpackage\n",
      "Compiled CoreMLC model saved to ./compiled_model/fuji2.mlmodelc\n"
     ]
    }
   ],
   "source": [
    "import coremltools as ct\n",
    "import subprocess\n",
    "import os\n",
    "\n",
    "# Convert the TorchScript model to Core ML\n",
    "coreml_model = ct.convert(\n",
    "    traced_model,\n",
    "    inputs=[ct.ImageType(name=\"input\", shape=(1, 3, inference_size, inference_size))],\n",
    "    minimum_deployment_target=ct.target.iOS13  # Specify deployment target if needed\n",
    ")\n",
    "\n",
    "# Path for the uncompiled mlpackage\n",
    "coreml_model_path = \"./E100.mlpackage\"\n",
    "\n",
    "# Save the Core ML model\n",
    "coreml_model.save(coreml_model_path)\n",
    "\n",
    "print(f\"Core ML model saved to {coreml_model_path}\")\n",
    "\n",
    "# Directory for compiled CoreMLC\n",
    "compiled_output_dir = \"./compiled_model\"\n",
    "\n",
    "# Ensure output directory exists\n",
    "if not os.path.exists(compiled_output_dir):\n",
    "    os.makedirs(compiled_output_dir)\n",
    "\n",
    "# Use subprocess to call xcrun coremlc compile\n",
    "compile_command = [\n",
    "    \"xcrun\", \"coremlc\", \"compile\", coreml_model_path, compiled_output_dir\n",
    "]\n",
    "\n",
    "try:\n",
    "    result = subprocess.run(compile_command, check=True, capture_output=True, text=True)\n",
    "    print(f\"Compiled CoreMLC model saved to {compiled_output_dir}/fuji2.mlmodelc\")\n",
    "except subprocess.CalledProcessError as e:\n",
    "    print(f\"Error during compilation: {e.stderr}\")"
   ]
  },
  {
   "cell_type": "markdown",
   "metadata": {},
   "source": []
  },
  {
   "cell_type": "markdown",
   "metadata": {},
   "source": [
    "*Test Core ML*"
   ]
  },
  {
   "cell_type": "code",
   "execution_count": null,
   "metadata": {},
   "outputs": [
    {
     "name": "stdout",
     "output_type": "stream",
     "text": [
      "Output feature name: output\n",
      "Output type details: imageType {\n",
      "  width: 256\n",
      "  height: 256\n",
      "  colorSpace: RGB\n",
      "}\n",
      "\n",
      "Prediction result keys: ['output']\n",
      "Output type is: <class 'PIL.Image.Image'>\n"
     ]
    }
   ],
   "source": [
    "import coremltools as ct\n",
    "import numpy as np\n",
    "from PIL import Image\n",
    "import matplotlib.pyplot as plt\n",
    "\n",
    "# -------------------------------\n",
    "# 1. Load the Core ML Model\n",
    "# -------------------------------\n",
    "# Path to your compiled model (mlpackage)\n",
    "model_path = \"/Users/yahyarahhawi/Developer/Film/pytorch-CycleGAN-and-pix2pix/p400.mlpackage\"\n",
    "model = ct.models.MLModel(model_path)\n",
    "\n",
    "# Print some model spec details to verify output type\n",
    "spec = model.get_spec()\n",
    "if spec.description.output:\n",
    "    output_feature = spec.description.output[0]\n",
    "    print(\"Output feature name:\", output_feature.name)\n",
    "    # Print output type info\n",
    "    print(\"Output type details:\", output_feature.type)\n",
    "else:\n",
    "    print(\"No outputs found in the model spec.\")\n",
    "\n",
    "# -------------------------------\n",
    "# 2. Prepare a Dummy Input Image\n",
    "# -------------------------------\n",
    "# Define the inference size (must match your model's expected input dimensions)\n",
    "inference_size = 256\n",
    "\n",
    "# Create a dummy 256x256 RGB image (here, a mid-gray image)\n",
    "dummy_input_image = Image.open(\"/Users/yahyarahhawi/Developer/Film/pytorch-CycleGAN-and-pix2pix/datasets/Cinestill800t/train_A/whats-the-best-iphone-photo-you-have-taken-v0-cn8xdwun53wb1.webp\").resize((256, 256))\n",
    "\n",
    "# The key must match the model's input name. In our conversion, we used \"input\".\n",
    "input_name = \"input\"\n",
    "input_data = {input_name: dummy_input_image}\n",
    "\n",
    "# -------------------------------\n",
    "# 3. Run Prediction with the Model\n",
    "# -------------------------------\n",
    "result = model.predict(input_data)\n",
    "\n",
    "# List keys of the prediction output (typically should include your output image name)\n",
    "print(\"Prediction result keys:\", list(result.keys()))\n",
    "\n",
    "# -------------------------------\n",
    "# 4. Check and Display the Output\n",
    "# -------------------------------\n",
    "# We assume the output is named \"output\". Adjust if necessary.\n",
    "output = result[\"output\"]\n",
    "\n",
    "# In Python, image outputs from Core ML models are usually returned as NumPy arrays.\n",
    "if isinstance(output, np.ndarray):\n",
    "    print(\"Output is a NumPy array with shape:\", output.shape, \"and dtype:\", output.dtype)\n",
    "    # Clip and convert to uint8 if necessary. The model is expected to produce values in 0–255.\n",
    "    output_uint8 = np.clip(output, 0, 255).astype(np.uint8)\n",
    "    \n",
    "    # Convert the NumPy array to a PIL Image for visualization.\n",
    "    # If the array is in CHW (channels-first) format, transpose it to HWC.\n",
    "    if output_uint8.shape[0] == 3:  # assume shape is (3, H, W)\n",
    "        output_uint8 = np.transpose(output_uint8, (1, 2, 0))\n",
    "    \n",
    "    output_image = Image.fromarray(output_uint8)\n",
    "    \n",
    "    # Display using PIL's built-in viewer\n",
    "    output_image.show()\n",
    "    \n",
    "    # Or display using matplotlib\n",
    "    plt.imshow(output_image)\n",
    "    plt.title(\"Model Output\")\n",
    "    plt.axis(\"off\")\n",
    "    plt.show()\n",
    "else:\n",
    "    print(\"Output type is:\", type(output))"
   ]
  },
  {
   "cell_type": "code",
   "execution_count": 67,
   "metadata": {},
   "outputs": [],
   "source": [
    "output = np.array(output)"
   ]
  },
  {
   "cell_type": "code",
   "execution_count": 72,
   "metadata": {},
   "outputs": [
    {
     "data": {
      "text/plain": [
       "array([  0,   1, 255], dtype=uint8)"
      ]
     },
     "execution_count": 72,
     "metadata": {},
     "output_type": "execute_result"
    }
   ],
   "source": [
    "np.unique(output)"
   ]
  },
  {
   "cell_type": "code",
   "execution_count": 69,
   "metadata": {},
   "outputs": [
    {
     "data": {
      "text/plain": [
       "<matplotlib.image.AxesImage at 0x3c9fbd490>"
      ]
     },
     "execution_count": 69,
     "metadata": {},
     "output_type": "execute_result"
    },
    {
     "data": {
      "image/png": "[encoded data removed]",
      "text/plain": [
       "<Figure size 640x480 with 1 Axes>"
      ]
     },
     "metadata": {},
     "output_type": "display_data"
    }
   ],
   "source": [
    "plt.imshow(output)"
   ]
  },
  {
   "cell_type": "code",
   "execution_count": null,
   "metadata": {},
   "outputs": [],
   "source": []
  }
 ],
 "metadata": {
  "kernelspec": {
   "display_name": "pytorch",
   "language": "python",
   "name": "python3"
  },
  "language_info": {
   "codemirror_mode": {
    "name": "ipython",
    "version": 3
   },
   "file_extension": ".py",
   "mimetype": "text/x-python",
   "name": "python",
   "nbconvert_exporter": "python",
   "pygments_lexer": "ipython3",
   "version": "3.12.9"
  }
 },
 "nbformat": 4,
 "nbformat_minor": 2
}
