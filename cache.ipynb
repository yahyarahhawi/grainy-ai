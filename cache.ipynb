{
 "cells": [
  {
   "cell_type": "code",
   "execution_count": null,
   "metadata": {
    "vscode": {
     "languageId": "plaintext"
    }
   },
   "outputs": [],
   "source": [
    "import os\n",
    "import skimage.io as skio\n",
    "import matplotlib.pyplot as plt\n",
    "from pathlib import Path\n",
    "\n",
    "def inspect_weights(\n",
    "    weights_directory: str,\n",
    "    images_paths: list,\n",
    "    results_folder: str = \"/Users/yahyarahhawi/Developer/Film/inspected_weights/results\",\n",
    "    resize_to: int = 2048,\n",
    "    device: str = \"mps\"\n",
    "):\n",
    "    \"\"\"\n",
    "    Recursively finds all '.pth' files in 'weights_directory', and for each file\n",
    "    applies transform_image_A_to_B() to all images in 'images_paths'. Saves results\n",
    "    under 'results_folder', grouping by each weights file, but combining subfolders\n",
    "    with underscores. E.g., 'cinestill/100_net_G_A.pth' => 'cinestill_100_net_G_A.pth'\n",
    "\n",
    "    Additionally, for each weights file, it compiles a single Matplotlib figure\n",
    "    showing all transformed images in a 3×4 layout (up to 12 images), and saves\n",
    "    it as \"<folder_name>.png\" in the `results_folder`.\n",
    "    \"\"\"\n",
    "    # Ensure results folder exists\n",
    "    os.makedirs(results_folder, exist_ok=True)\n",
    "\n",
    "    for root, dirs, files in os.walk(weights_directory):\n",
    "        for file_name in files:\n",
    "            if file_name.endswith(\".pth\"):\n",
    "                weights_path = os.path.join(root, file_name)\n",
    "                relative_root = os.path.relpath(root, weights_directory)\n",
    "\n",
    "                # Convert the subfolder path + filename into one underscore-based name\n",
    "                # e.g. \"cinestill\" + \"100_net_G_A.pth\" => \"cinestill_100_net_G_A.pth\"\n",
    "                # If 'relative_root' is '.', it means it's the top-level folder\n",
    "                if relative_root == \".\":\n",
    "                    folder_name = file_name  # e.g., \"100_net_G_A.pth\"\n",
    "                else:\n",
    "                    folder_name = relative_root + \"_\" + file_name  # e.g., \"cinestill_100_net_G_A.pth\"\n",
    "\n",
    "                # Replace path separators with underscores (on Windows/Mac/Linux)\n",
    "                folder_name = folder_name.replace(os.sep, \"_\")\n",
    "\n",
    "                # Construct final output folder for individual images\n",
    "                results_subdir = os.path.join(results_folder, folder_name)\n",
    "                os.makedirs(results_subdir, exist_ok=True)\n",
    "\n",
    "                print(f\"\\n=== Processing weights: {weights_path}\")\n",
    "                print(f\"=== Output folder for images: {results_subdir}\")\n",
    "\n",
    "                # We'll keep track of the (filename, image) pairs to compile the subplot later\n",
    "                output_images = []\n",
    "\n",
    "                for img_path in images_paths:\n",
    "                    try:\n",
    "                        out_img = transform_image_A_to_B(\n",
    "                            input_image=img_path,\n",
    "                            weights_path=weights_path,\n",
    "                            device=device,\n",
    "                            resize_to=resize_to\n",
    "                        )\n",
    "                        img_filename = os.path.basename(img_path)\n",
    "                        out_path = os.path.join(results_subdir, img_filename)\n",
    "                        skio.imsave(out_path, out_img)\n",
    "                        print(f\"    Saved: {out_path}\")\n",
    "\n",
    "                        # Add to our list for plotting\n",
    "                        output_images.append((img_filename, out_img))\n",
    "\n",
    "                    except Exception as e:\n",
    "                        print(f\"    Error processing {img_path} with {weights_path}: {e}\")\n",
    "\n",
    "                # ---------------------------------------------------------\n",
    "                # Create a single figure with subplots (3 rows x 4 columns)\n",
    "                # ---------------------------------------------------------\n",
    "                if output_images:\n",
    "                    # We'll only show up to 12 images in the grid\n",
    "                    max_images = min(len(output_images), 12)\n",
    "\n",
    "                    fig, axes = plt.subplots(3, 4, figsize=(16, 12))\n",
    "                    axes = axes.flatten()  # Flatten 3x4 to a list of 12 axes\n",
    "\n",
    "                    for i in range(max_images):\n",
    "                        img_filename, out_img = output_images[i]\n",
    "                        ax = axes[i]\n",
    "                        ax.imshow(out_img)\n",
    "                        ax.set_title(img_filename, fontsize=8)\n",
    "                        ax.axis(\"off\")\n",
    "\n",
    "                    # If there are fewer than 12 images, hide the remaining axes\n",
    "                    for j in range(max_images, 12):\n",
    "                        axes[j].axis(\"off\")\n",
    "\n",
    "                    plt.tight_layout()\n",
    "\n",
    "                    # Save the compiled figure\n",
    "                    # e.g. if folder_name=\"cinestill_100_net_G_A.pth\", \n",
    "                    # compiled image = \"cinestill_100_net_G_A.pth.png\" in results_folder\n",
    "                    compiled_plot_path = os.path.join(\n",
    "                        results_folder, folder_name + \".png\"\n",
    "                    )\n",
    "                    plt.savefig(compiled_plot_path, dpi=150)\n",
    "                    plt.close(fig)\n",
    "\n",
    "                    print(f\"=== Compiled figure saved: {compiled_plot_path}\")\n",
    "                else:\n",
    "                    print(\"No images were processed; no compiled figure created.\")"
   ]
  },
  {
   "cell_type": "code",
   "execution_count": null,
   "metadata": {
    "vscode": {
     "languageId": "plaintext"
    }
   },
   "outputs": [],
   "source": [
    "images_paths = [ \"/Users/yahyarahhawi/Developer/Film/pytorch-CycleGAN-and-pix2pix/datasets/film_transfer/trainA/_nusrattt_1692914685_3176721087780991322_8028270133.jpg\"\n",
    "                , \"/Users/yahyarahhawi/Developer/Film/pytorch-CycleGAN-and-pix2pix/datasets/film_transfer/trainA/9sglr0n2tlae1.jpeg\"\n",
    "                , \"/Users/yahyarahhawi/Developer/Film/pytorch-CycleGAN-and-pix2pix/datasets/film_transfer/trainA/iphone-15-pm-v0-vbmtquw0lx9e1.jpeg\"\n",
    "                , \"/Users/yahyarahhawi/Developer/Film/pytorch-CycleGAN-and-pix2pix/datasets/film_transfer/trainA/434148921_1215316256115590_8824329964826277346_n.jpg\"\n",
    "                , \"/Users/yahyarahhawi/Developer/Film/pytorch-CycleGAN-and-pix2pix/datasets/film_transfer/trainA/468098174_10160452228782283_6470774328062649638_n.jpg\"\n",
    "                , \"/Users/yahyarahhawi/Developer/Film/pytorch-CycleGAN-and-pix2pix/datasets/film_transfer/trainA/468367136_1223915785349049_272835853960648938_n.jpg\"\n",
    "                , \"/Users/yahyarahhawi/Developer/Film/pytorch-CycleGAN-and-pix2pix/datasets/film_transfer/trainA/471580547_10235710514767354_6503898022093232902_n.jpg\"\n",
    "                , \"/Users/yahyarahhawi/Developer/Film/pytorch-CycleGAN-and-pix2pix/datasets/film_transfer/trainA/472209162_609603644783753_187943241519109706_n.jpg\"\n",
    "                , \"/Users/yahyarahhawi/Developer/Film/pytorch-CycleGAN-and-pix2pix/datasets/film_transfer/trainA/472521894_10160974665802895_1246614851933189592_n.jpg\"\n",
    "                , \"/Users/yahyarahhawi/Developer/Film/pytorch-CycleGAN-and-pix2pix/datasets/film_transfer/trainA/472573341_10222111737781000_47137509779831210_n.jpg\"\n",
    "                , \"/Users/yahyarahhawi/Developer/Film/pytorch-CycleGAN-and-pix2pix/datasets/film_transfer/trainA/amsal.pt2_1692328736_3171805793028838612_59580996889.jpg\"\n",
    "                , \"/Users/yahyarahhawi/Developer/Film/pytorch-CycleGAN-and-pix2pix/datasets/film_transfer/trainA/autumn-in-austria-iphone-15-pro-v0-hw13g12e3iud1.jpeg\"]"
   ]
  },
  {
   "cell_type": "code",
   "execution_count": null,
   "metadata": {
    "vscode": {
     "languageId": "plaintext"
    }
   },
   "outputs": [],
   "source": [
    "inspect_weights(\n",
    "    weights_directory=\"/Users/yahyarahhawi/Developer/Film/weights\",\n",
    "    images_paths=images_paths,\n",
    "    results_folder=\"/Users/yahyarahhawi/Developer/Film/inspected_weights/results\",\n",
    "    resize_to=2048,\n",
    "    device=\"mps\"\n",
    ")"
   ]
  },
  {
   "cell_type": "code",
   "execution_count": null,
   "metadata": {
    "vscode": {
     "languageId": "plaintext"
    }
   },
   "outputs": [],
   "source": [
    "def halation(image, threshold=0.8, intensity=1.0, size=5, threshold_softness=3):\n",
    "    # Ensure the image is in float format\n",
    "    image_float = skimage.img_as_float(image)\n",
    "\n",
    "    # Convert image to grayscale to identify highlights\n",
    "    grayscale = np.dot(image_float[..., :3], [0.2989, 0.587, 0.114])\n",
    "    \n",
    "    # Create a mask for highlights based on the threshold\n",
    "    highlight_mask = grayscale > threshold\n",
    "    \n",
    "    # Apply Gaussian blur to the threshold mask for smoother edges\n",
    "    blurred_threshold_mask = skimage.filters.gaussian(highlight_mask.astype(float), sigma=threshold_softness)\n",
    "    \n",
    "    # Apply another Gaussian blur to create a smooth glow\n",
    "    glow_mask = skimage.filters.gaussian(blurred_threshold_mask, sigma=size)\n",
    "    \n",
    "    # Create a red glow image\n",
    "    red_glow = np.zeros_like(image_float)\n",
    "    red_glow[..., 0] = glow_mask * intensity  # Apply intensity to the red channel\n",
    "    \n",
    "    # Add the red glow to the original image\n",
    "    halated_image = np.clip(image_float + red_glow, 0, 1)\n",
    "    \n",
    "    # Convert back to unsigned byte format for viewing\n",
    "    output_image = skimage.img_as_ubyte(halated_image)\n",
    "    \n",
    "    return output_image\n",
    "\n",
    "# Example usage:\n",
    "halated_img = halation(img, threshold=0.75, intensity=1, size=30)\n",
    "skio.imshow(halated_img)"
   ]
  },
  {
   "cell_type": "code",
   "execution_count": null,
   "metadata": {
    "vscode": {
     "languageId": "plaintext"
    }
   },
   "outputs": [],
   "source": []
  }
 ],
 "metadata": {
  "language_info": {
   "name": "python"
  }
 },
 "nbformat": 4,
 "nbformat_minor": 2
}
